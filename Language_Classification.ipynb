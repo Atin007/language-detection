{
 "cells": [
  {
   "cell_type": "markdown",
   "metadata": {
    "colab_type": "text",
    "id": "6VKCGu1m_jeP"
   },
   "source": [
    "## Problem Statement: To identify language of each sentence (test instance) from the EuroPARL test dataset\n",
    "\n",
    "In this challenge, we will try to develop a machine learning model to classify the language of a particular sentence in the EuroPARL test set provided on the fellowship.ai/challenge page. Text from 21 different European languages are present in the test set.\n",
    "\n",
    "For the purpose of language detection, we will use a subset of EuroPARL parallel corpus version 7 for training the algorithm because it consists of text similar to the test set.\n",
    "\n",
    "Before attempting to code, I read some research papers in language identification domain and most of the studies had used N-gram based approach. So, I also decided to try N-grams approach paired with my own version of statistical measure for language identification. It is a simple yet powerful technique to identify language of the text.\n",
    "\n",
    "Methodology:\n",
    "\n",
    "1. Data stage: Creating a small training and validation subset out of the large 10GB EuroPARL dataset. EuroPARL dataset was created for research in language translation domain. So, each of the 21 languagea is translated into english language.\n",
    "\n",
    "2. Train stage: Compute top ngrams (in decreasing order of frequency) for each language and storing it in array of dictionaries(ngrams, value and rank). CountVectorizer from scikit-learn is used.\n",
    "\n",
    "3. Predict stage: Compute all ngrams for each instance in the test set and find similariy measure(sameness) between the instance and each language and predict the language which has the maximum similarity with the instance.\n",
    "\n",
    "4. Metrics: Compute accuracy and confusion matrix for different values of lines_per_lang, top_ngrams and ngram_range and find the best combination for accuracy and speed."
   ]
  },
  {
   "cell_type": "markdown",
   "metadata": {},
   "source": [
    "### Step 0: Import all the functions and packages required"
   ]
  },
  {
   "cell_type": "code",
   "execution_count": 1,
   "metadata": {},
   "outputs": [],
   "source": [
    "import numpy as np\n",
    "import string, random\n",
    "from sklearn.feature_extraction.text import CountVectorizer\n",
    "from sklearn.metrics import confusion_matrix, accuracy_score\n",
    "import seaborn as sns"
   ]
  },
  {
   "cell_type": "markdown",
   "metadata": {
    "colab_type": "text",
    "id": "HTFLIgXD_jeR"
   },
   "source": [
    "### Step 1: Create a small training and validation set from the 10GB EuroPARL dataset (in 21 languages)"
   ]
  },
  {
   "cell_type": "code",
   "execution_count": 2,
   "metadata": {},
   "outputs": [],
   "source": [
    "# function to create training and validation datasets\n",
    "def create_train_valid(eu_files_path, langs_arr, lines_per_lang):\n",
    "    # training and validation file\n",
    "    train_file = 'europarl.train'\n",
    "    valid_file = 'europarl.valid' # similar to test data for training purposes\n",
    "    # open training and validation file simulataneously\n",
    "    with open(train_file, 'w') as wf1, open(valid_file, 'w') as wf2:\n",
    "        for lang in langs_arr:\n",
    "            file_name = f'{eu_files_path}{lang}-en.{lang}'   # language specific filename\n",
    "            if lang == 'en':   # selecting the english filename\n",
    "                file_name = f'{eu_files_path}bg-en.en'\n",
    "            # open particular language file in the EuroPARL dataset and create training file and validation file by randomly selecting lines in the complete file\n",
    "            with open(file_name, 'r') as rf:\n",
    "                # randomly selecting lines (lines = lines_per_lang param) out of complete file\n",
    "                lines = random.sample(rf.readlines(),lines_per_lang+1200)\n",
    "                # writing lines to training file\n",
    "                for line in lines[:-1200]:\n",
    "                    wf1.write(f'{lang},{line}')\n",
    "                # writing lines to validation file\n",
    "                for line in lines[lines_per_lang:]:\n",
    "                    # not consider lines with characters less than 20\n",
    "                    if len(line) > 20:\n",
    "                        wf2.write(f'{lang}\\t{line}')\n",
    "    print(f'{train_file} and {valid_file} file created!')"
   ]
  },
  {
   "cell_type": "markdown",
   "metadata": {
    "colab_type": "text",
    "id": "_1iOuaXg_jed"
   },
   "source": [
    "### Step 2: Preprocessing Functions: Removing Punctuation and Digits from the text\n",
    "\n",
    "For removing digits and punctuations which are generally not useful in identifying languages."
   ]
  },
  {
   "cell_type": "code",
   "execution_count": 3,
   "metadata": {
    "colab": {},
    "colab_type": "code",
    "id": "GzpRovp5_jee"
   },
   "outputs": [],
   "source": [
    "# function to remove punctuation (except apostrophes) and digits from a string\n",
    "def remove_punctuation_digits(s):\n",
    "    # remove punctuation\n",
    "    table1 = str.maketrans({key: None for key in string.punctuation if key != \"'\"})\n",
    "    # remove digits\n",
    "    table2 = str.maketrans({str(key): None for key in range(0,10)})\n",
    "    return s.translate(table1).translate(table2)"
   ]
  },
  {
   "cell_type": "markdown",
   "metadata": {
    "colab_type": "text",
    "id": "d7nwSVbE_jel"
   },
   "source": [
    "### Step 3: Function to create N-gram frequency profile for a document (corpus)"
   ]
  },
  {
   "cell_type": "code",
   "execution_count": 4,
   "metadata": {
    "colab": {
     "base_uri": "https://localhost:8080/",
     "height": 314
    },
    "colab_type": "code",
    "executionInfo": {
     "elapsed": 1760,
     "status": "error",
     "timestamp": 1542372430494,
     "user": {
      "displayName": "Atin Mathur",
      "photoUrl": "https://lh5.googleusercontent.com/-aT3ECPQO_1c/AAAAAAAAAAI/AAAAAAAABmI/LFK4KBwNYBI/s64/photo.jpg",
      "userId": "09028927126879684631"
     },
     "user_tz": -330
    },
    "id": "pgk34Cn9_jen",
    "outputId": "4002cdcc-2234-40f3-cb09-2aa0dbfdd1bd"
   },
   "outputs": [],
   "source": [
    "# function to extract ngrams from text\n",
    "def extract_ngrams(corpus, ngram_range=(1, 5)):\n",
    "    # compute ngrams for a corpus\n",
    "    cv = CountVectorizer(analyzer='char_wb', ngram_range=ngram_range)\n",
    "    ngrams = cv.fit_transform(corpus)\n",
    "    # ngram vocab\n",
    "    vocab = cv.vocabulary_\n",
    "    # frequency of each item in the vocab\n",
    "    count_values = ngrams.toarray().sum(axis=0)\n",
    "    return vocab, count_values\n",
    "\n",
    "# function to sort and extract top 'N' ngrams\n",
    "def extract_top_ngrams(corpus, ngram_range, N):\n",
    "    # extract all ngrams\n",
    "    vocab, count_values = extract_ngrams(corpus, ngram_range)\n",
    "    if N == -1:         # if N = -1, we need to extract all the ngrams        \n",
    "        top_ngrams = len(vocab.items()) - 1   # -1 for removing whitespace later on\n",
    "    else:    \n",
    "        top_ngrams = N - 1   # -1 for removing whitespace later on\n",
    "    ngram_profile = dict()\n",
    "    # sort ngrams in decreasing order of frequencies and limit till N\n",
    "    for ng_count, ng_text in sorted([(count_values[i],k) for k,i in vocab.items()], reverse=True):\n",
    "        # remove whitespace 1-gram\n",
    "        if ng_text == ' ':\n",
    "            continue\n",
    "        # create dictionary of the ngram_profile with ngram and its rank in the document\n",
    "        ngram_profile[ng_text] = top_ngrams\n",
    "        top_ngrams -= 1\n",
    "        if top_ngrams == 0:\n",
    "            break\n",
    "    return ngram_profile"
   ]
  },
  {
   "cell_type": "markdown",
   "metadata": {},
   "source": [
    "### Step 4: Extracting text from the train file and create ngram frequency profile for each language"
   ]
  },
  {
   "cell_type": "code",
   "execution_count": 5,
   "metadata": {},
   "outputs": [],
   "source": [
    "# function to extract text from the training file\n",
    "def train(train_file, lines_per_lang, ngram_range, top_ngrams):\n",
    "    with open(train_file, 'r') as rf:\n",
    "        count = 0\n",
    "        corpus = []\n",
    "        ngram_profiles = []\n",
    "        # loop over training file\n",
    "        for line in rf:\n",
    "            # language label present in front of every line\n",
    "            lang = line[:2]\n",
    "            # remove punctuation and digits before computing ngrams\n",
    "            line = remove_punctuation_digits(line[3:])\n",
    "            corpus.append(line)\n",
    "            count += 1\n",
    "            if count == lines_per_lang:\n",
    "                # compute top ngrams for corpus in decreasing order of frequencies for each language type\n",
    "                ngram_profile = extract_top_ngrams(corpus, ngram_range, top_ngrams)\n",
    "                # append the dictionary of ngrams for each language in this array\n",
    "                ngram_profiles.append(ngram_profile)\n",
    "                corpus = []\n",
    "                count = 0\n",
    "    return ngram_profiles"
   ]
  },
  {
   "cell_type": "markdown",
   "metadata": {
    "colab_type": "text",
    "id": "DWQrZzvr_jer"
   },
   "source": [
    "### Step 5: Extracting ngram frequency profile for test data (one instance at a time) and predicting its language\n",
    "\n",
    "###### A simple prediction algorithm based on maximizing the sameness measure of ngrams in the test instance and each of the languages.\n",
    "\n",
    "Ngrams are calculated for each instance (in this case, a sentence) and a sameness measure is calculated by finding out if a ngram is present in the language training data or not, and adding 1 for a hit and 0 for a miss.\n",
    "\n",
    "Whichever language shares maximum number of ngrams with the instance, algorithm predicts the instance to be in the same language."
   ]
  },
  {
   "cell_type": "code",
   "execution_count": 6,
   "metadata": {
    "colab": {},
    "colab_type": "code",
    "id": "1rKN34xZ_jes"
   },
   "outputs": [],
   "source": [
    "def predict(test_file, ngram_range):\n",
    "    actuals = []\n",
    "    preds = []\n",
    "    with open(test_file, 'r') as rf:\n",
    "        for line in rf:\n",
    "            corpus = []\n",
    "            # remove language label present in front of every line\n",
    "            actuals.append(line[:2])\n",
    "            # remove punctuation and digits before computing ngrams\n",
    "            line = remove_punctuation_digits(line[3:])\n",
    "            corpus.append(line)\n",
    "            # compute all ngrams for corpus in decreasing order of frequencies for each language type\n",
    "            ngram_profile = extract_top_ngrams(corpus, ngram_range, -1)\n",
    "            # initialize sameness measure as np-array\n",
    "            sameness_measure = np.zeros(len(langs_arr))\n",
    "            for i in range(len(langs_arr)):\n",
    "                for key in ngram_profile:\n",
    "                    # if ngram in the document is also present in a particular language ngram profile, add 1\n",
    "                    if key in train_ngrams_profile[i]:\n",
    "                        sameness_measure[i] += 1\n",
    "            # predict language class which has maximum sameness with the document in ngrams            \n",
    "            preds.append(langs_arr[np.argmax(sameness_measure)])\n",
    "    return actuals, preds             "
   ]
  },
  {
   "cell_type": "markdown",
   "metadata": {},
   "source": [
    "### Initialize language category array and file paths\n",
    "\n",
    "##### Array of all the languages to be predicted in the EUROParl dataset:\n",
    "bg = bulgarian, cs = czech, da = danish, de = german, el = greek, \n",
    "en = english, es = spanish, et = estonian, fi = finnish, fr = french, \n",
    "hu = hungarian, it = italian, lt= lithuanian, lv = latvian, nl = dutch, \n",
    "pl = polish, pt = portuguese, ro = romanian, sk = slovak, sl = slovene, \n",
    "sv = swedish\n",
    "\n",
    "##### All the files for each language in EUROPARL dataset is stored in eu_files_path"
   ]
  },
  {
   "cell_type": "code",
   "execution_count": 7,
   "metadata": {},
   "outputs": [],
   "source": [
    "# all languages present in the test and train data\n",
    "langs_arr = ['bg', 'cs', 'da', 'de', 'el', 'en', 'es', 'et', 'fi', 'fr', 'hu', 'it', 'lt', 'lv', 'nl', 'pl', 'pt', 'ro', 'sk', 'sl', 'sv']\n",
    "\n",
    "# file path for EUROPARL data\n",
    "eu_files_path = 'training-data/europarl-v7.'"
   ]
  },
  {
   "cell_type": "markdown",
   "metadata": {},
   "source": [
    "### Experiment 0: Sample run of the all the steps one by one"
   ]
  },
  {
   "cell_type": "code",
   "execution_count": 8,
   "metadata": {},
   "outputs": [],
   "source": [
    "# training data per langauages\n",
    "lines_per_lang = 1000\n",
    "\n",
    "# top ngrams to be onsidered while prediction\n",
    "top_ngrams = 300\n",
    "\n",
    "# ngrams range for CountVectorizer\n",
    "ngram_range = (1, 5)\n",
    "\n",
    "# test file\n",
    "test_file = 'europarl.valid'"
   ]
  },
  {
   "cell_type": "code",
   "execution_count": 9,
   "metadata": {},
   "outputs": [
    {
     "name": "stdout",
     "output_type": "stream",
     "text": [
      "europarl.train and europarl.valid file created!\n"
     ]
    }
   ],
   "source": [
    "# creating train and valid set based on the above params\n",
    "create_train_valid(eu_files_path, langs_arr, lines_per_lang)"
   ]
  },
  {
   "cell_type": "code",
   "execution_count": 10,
   "metadata": {},
   "outputs": [],
   "source": [
    "# creating training data ngram frequency profile\n",
    "train_ngrams_profile = train('europarl.train', lines_per_lang, ngram_range, top_ngrams)"
   ]
  },
  {
   "cell_type": "code",
   "execution_count": 11,
   "metadata": {},
   "outputs": [],
   "source": [
    "# Predict language label for validation data\n",
    "actuals, preds = predict(test_file, ngram_range)"
   ]
  },
  {
   "cell_type": "code",
   "execution_count": 12,
   "metadata": {},
   "outputs": [
    {
     "name": "stdout",
     "output_type": "stream",
     "text": [
      "Accuracy: 0.9926995522929859\n",
      "[[1185    0    0    1    0    1    0    0    0    0    0    0    0    0\n",
      "     0    0    0    0    0    0    0]\n",
      " [   0 1165    0    0    0    0    0    0    0    0    0    0    0    0\n",
      "     0    0    1    0   11    6    0]\n",
      " [   0    0 1168    0    0    3    0    0    0    0    0    0    0    0\n",
      "     0    0    0    0    0    0   10]\n",
      " [   0    0    0 1180    0    2    0    0    0    1    0    0    0    0\n",
      "     2    0    0    0    0    0    2]\n",
      " [   0    0    0    1 1171    0    0    0    0    0    0    1    0    0\n",
      "     0    0    0    0    0    0    0]\n",
      " [   0    0    0    0    0 1179    0    1    0    1    0    0    0    0\n",
      "     0    0    0    0    0    0    0]\n",
      " [   0    0    0    0    0    4 1172    0    0    0    0    0    0    0\n",
      "     0    1   11    0    0    0    0]\n",
      " [   0    0    0    0    0    0    0 1173    4    2    0    0    0    0\n",
      "     1    0    0    0    0    0    1]\n",
      " [   0    0    0    1    0    1    0    7 1174    0    0    0    0    0\n",
      "     0    1    0    0    0    0    0]\n",
      " [   0    0    0    2    0    2    0    0    0 1183    0    0    0    0\n",
      "     0    0    0    1    0    0    0]\n",
      " [   0    1    0    0    0    0    0    0    0    1 1171    0    0    0\n",
      "     0    0    0    0    0    0    0]\n",
      " [   0    0    1    0    0    1    0    0    0    1    0 1183    0    0\n",
      "     1    0    0    0    0    0    0]\n",
      " [   0    0    0    0    0    0    0    1    0    0    0    1 1175    1\n",
      "     0    0    1    0    0    1    0]\n",
      " [   0    0    0    0    0    1    2    0    0    0    0    0    2 1167\n",
      "     0    0    2    0    1    0    0]\n",
      " [   0    0    1    0    0    4    0    0    0    1    0    0    0    0\n",
      "  1182    0    0    0    0    0    1]\n",
      " [   0    0    0    0    0    0    1    0    0    0    0    0    0    0\n",
      "     1 1167    0    0    0    0    0]\n",
      " [   0    0    0    0    0    3   11    0    0    1    0    1    0    0\n",
      "     0    0 1155    1    0    0    0]\n",
      " [   0    0    0    1    1    1    1    0    0    0    0    2    0    0\n",
      "     0    1    0 1176    0    0    0]\n",
      " [   0   15    0    0    0    0    1    0    0    0    0    1    0    0\n",
      "     0    0    1    0 1163    1    0]\n",
      " [   0    1    0    0    0    1    0    1    0    0    0    1    4    0\n",
      "     0    0    1    0    3 1156    0]\n",
      " [   0    0    6    2    0    3    0    0    2    0    0    0    1    0\n",
      "     0    0    0    1    0    0 1167]]\n"
     ]
    }
   ],
   "source": [
    "# Measure accuracy of the model\n",
    "print(f'Accuracy: {accuracy_score(actuals, preds)}')\n",
    "\n",
    "# Confusion matrix for the classification problem\n",
    "print(confusion_matrix(actuals, preds, labels=langs_arr))"
   ]
  },
  {
   "cell_type": "markdown",
   "metadata": {},
   "source": [
    "### Experiment 1: Find best training data size\n",
    "\n",
    "By trying out different sizes of training dataset we have achieved accuracy of 99.81% on the validation set."
   ]
  },
  {
   "cell_type": "code",
   "execution_count": 15,
   "metadata": {},
   "outputs": [
    {
     "name": "stdout",
     "output_type": "stream",
     "text": [
      "europarl.train and europarl.valid file created!\n",
      "Lines: 1000, Top ngrams: 1800, Accuracy: 0.996889768550309\n",
      "europarl.train and europarl.valid file created!\n",
      "Lines: 2000, Top ngrams: 1800, Accuracy: 0.9968515379026399\n",
      "europarl.train and europarl.valid file created!\n",
      "Lines: 4000, Top ngrams: 1800, Accuracy: 0.9979016181752148\n",
      "europarl.train and europarl.valid file created!\n",
      "Lines: 5000, Top ngrams: 1800, Accuracy: 0.9981030794688622\n"
     ]
    }
   ],
   "source": [
    "# Running code for different training data size\n",
    "lines_arr = [1000, 2000, 4000, 5000]\n",
    "\n",
    "top_ngrams = 1800\n",
    "\n",
    "ngram_range = (1, 5)\n",
    "\n",
    "for i in lines_arr:\n",
    "    # number of lines to be used for training file (per language)\n",
    "    lines_per_lang = i\n",
    "\n",
    "    # creating train set based on the above params\n",
    "    create_train_valid(eu_files_path, langs_arr, lines_per_lang)\n",
    "\n",
    "    # creating training data ngram frequency profile\n",
    "    train_ngrams_profile = train('europarl.train', lines_per_lang, ngram_range, top_ngrams)\n",
    "\n",
    "    # Predict language label for test data\n",
    "    test_file = 'europarl.valid'\n",
    "    actuals, preds = predict(test_file, ngram_range)\n",
    "\n",
    "    # Measure accuracy of the model\n",
    "    print(f'Lines: {lines_per_lang}, Top ngrams: {top_ngrams}, Accuracy: {accuracy_score(actuals, preds)}')"
   ]
  },
  {
   "cell_type": "markdown",
   "metadata": {},
   "source": [
    "### Experiment 2: Finding best ngram range"
   ]
  },
  {
   "cell_type": "code",
   "execution_count": 16,
   "metadata": {},
   "outputs": [
    {
     "name": "stdout",
     "output_type": "stream",
     "text": [
      "europarl.train and europarl.valid file created!\n",
      "Lines: 5000, Top ngrams: 1800\n",
      "ngram_range: (1, 1), Accuracy: 0.3749848503211732\n",
      "ngram_range: (1, 2), Accuracy: 0.736233991839373\n",
      "ngram_range: (1, 3), Accuracy: 0.9969296650911\n",
      "ngram_range: (1, 4), Accuracy: 0.9980204419666303\n",
      "ngram_range: (1, 5), Accuracy: 0.9978184462489396\n"
     ]
    }
   ],
   "source": [
    "ngram_range_arr = [(1, 1), (1, 2), (1, 3), (1, 4), (1, 5)]\n",
    "\n",
    "# number of lines to be used for training file (per language)\n",
    "lines_per_lang = 5000\n",
    "\n",
    "# top_ngrams\n",
    "top_ngrams = 1800\n",
    "\n",
    "# creating train set based on the above params\n",
    "create_train_valid(eu_files_path, langs_arr, lines_per_lang)\n",
    "\n",
    "print(f'Lines: {lines_per_lang}, Top ngrams: {top_ngrams}')\n",
    "for ngram_range in ngram_range_arr:\n",
    "\n",
    "    # creating training data ngram frequency profile\n",
    "    train_ngrams_profile = train('europarl.train', lines_per_lang, ngram_range, top_ngrams)\n",
    "\n",
    "    # Predict language label for test data\n",
    "    test_file = 'europarl.valid'\n",
    "    actuals, preds = predict(test_file, ngram_range)\n",
    "\n",
    "    # Measure accuracy of the model\n",
    "    print(f'ngram_range: {ngram_range}, Accuracy: {accuracy_score(actuals, preds)}')"
   ]
  },
  {
   "cell_type": "markdown",
   "metadata": {},
   "source": [
    "### Final Step: Predict on the Test Set"
   ]
  },
  {
   "cell_type": "code",
   "execution_count": 17,
   "metadata": {},
   "outputs": [
    {
     "name": "stdout",
     "output_type": "stream",
     "text": [
      "europarl.train and europarl.valid file created!\n",
      "Accuracy: 0.9979047619047619\n",
      "[[1000    0    0    0    0    0    0    0    0    0    0    0    0    0\n",
      "     0    0    0    0    0    0    0]\n",
      " [   0  994    0    0    0    1    0    0    0    0    0    0    0    0\n",
      "     0    0    0    0    5    0    0]\n",
      " [   0    0  996    1    0    1    0    0    0    0    0    0    0    0\n",
      "     1    0    0    0    0    0    1]\n",
      " [   0    0    0 1000    0    0    0    0    0    0    0    0    0    0\n",
      "     0    0    0    0    0    0    0]\n",
      " [   0    0    0    0 1000    0    0    0    0    0    0    0    0    0\n",
      "     0    0    0    0    0    0    0]\n",
      " [   0    0    0    0    0  999    0    0    0    0    0    0    0    0\n",
      "     1    0    0    0    0    0    0]\n",
      " [   0    0    0    0    0    0 1000    0    0    0    0    0    0    0\n",
      "     0    0    0    0    0    0    0]\n",
      " [   0    0    0    1    0    2    1  996    0    0    0    0    0    0\n",
      "     0    0    0    0    0    0    0]\n",
      " [   0    0    0    0    0    0    0    0 1000    0    0    0    0    0\n",
      "     0    0    0    0    0    0    0]\n",
      " [   0    0    0    0    0    1    0    0    0  998    0    0    0    0\n",
      "     1    0    0    0    0    0    0]\n",
      " [   0    0    0    0    0    0    0    0    0    0  999    0    0    0\n",
      "     0    0    0    0    0    1    0]\n",
      " [   0    0    0    0    0    0    2    0    0    0    0  998    0    0\n",
      "     0    0    0    0    0    0    0]\n",
      " [   0    0    0    0    0    0    0    0    0    0    0    0 1000    0\n",
      "     0    0    0    0    0    0    0]\n",
      " [   0    0    0    0    0    0    1    0    0    0    0    0    3  996\n",
      "     0    0    0    0    0    0    0]\n",
      " [   0    0    0    0    0    0    0    0    0    0    0    0    0    0\n",
      "  1000    0    0    0    0    0    0]\n",
      " [   0    0    0    0    0    1    0    0    0    0    0    0    0    0\n",
      "     0  999    0    0    0    0    0]\n",
      " [   0    0    0    0    0    0    5    0    0    0    0    0    0    0\n",
      "     0    0  995    0    0    0    0]\n",
      " [   0    0    0    0    0    0    1    0    0    1    0    0    0    0\n",
      "     0    0    0  998    0    0    0]\n",
      " [   0    9    0    0    0    0    0    0    0    0    0    0    0    0\n",
      "     0    0    0    0  991    0    0]\n",
      " [   0    0    0    0    0    0    1    0    0    0    0    0    0    0\n",
      "     0    0    0    0    1  998    0]\n",
      " [   0    0    1    0    0    0    0    0    0    0    0    0    0    0\n",
      "     0    0    0    0    0    0  999]]\n"
     ]
    }
   ],
   "source": [
    "# training data per langauages\n",
    "lines_per_lang = 5000\n",
    "\n",
    "# top ngrams to be onsidered while prediction\n",
    "top_ngrams = 1800\n",
    "\n",
    "# ngrams range for CountVectorizer\n",
    "ngram_range = (1, 5)\n",
    "\n",
    "# test file\n",
    "test_file = 'europarl.test'\n",
    "\n",
    "# creating train and valid set based on the above params\n",
    "create_train_valid(eu_files_path, langs_arr, lines_per_lang)\n",
    "\n",
    "# creating training data ngram frequency profile\n",
    "train_ngrams_profile = train('europarl.train', lines_per_lang, ngram_range, top_ngrams)\n",
    "\n",
    "# Predict language label for test data\n",
    "actuals, preds = predict(test_file, ngram_range)\n",
    "\n",
    "# Measure accuracy of the model\n",
    "print(f'Accuracy: {accuracy_score(actuals, preds)}')\n",
    "\n",
    "# Confusion matrix for the classification problem\n",
    "cm = confusion_matrix(actuals, preds, labels=langs_arr)\n",
    "print(cm)"
   ]
  },
  {
   "cell_type": "code",
   "execution_count": 18,
   "metadata": {},
   "outputs": [
    {
     "data": {
      "image/png": "[encoded data removed]",
      "text/plain": [
       "<Figure size 1512x1512 with 2 Axes>"
      ]
     },
     "metadata": {},
     "output_type": "display_data"
    }
   ],
   "source": [
    "import matplotlib.pyplot as plt\n",
    "plt.figure(figsize=(21, 21))\n",
    "sns.heatmap(cm, annot=True,  fmt='', xticklabels=langs_arr, yticklabels=langs_arr);\n",
    "plt.title('Confusion Matrix for Languages');"
   ]
  },
  {
   "cell_type": "code",
   "execution_count": null,
   "metadata": {},
   "outputs": [],
   "source": []
  }
 ],
 "metadata": {
  "colab": {
   "collapsed_sections": [],
   "name": "Copy of Language Classification.ipynb",
   "provenance": [
    {
     "file_id": "1iBEOLQy-WiyxSr2SEEpkK44fouAcHG6t",
     "timestamp": 1542372638599
    }
   ],
   "version": "0.3.2"
  },
  "kernelspec": {
   "display_name": "Python 3",
   "language": "python",
   "name": "python3"
  },
  "language_info": {
   "codemirror_mode": {
    "name": "ipython",
    "version": 3
   },
   "file_extension": ".py",
   "mimetype": "text/x-python",
   "name": "python",
   "nbconvert_exporter": "python",
   "pygments_lexer": "ipython3",
   "version": "3.6.5"
  }
 },
 "nbformat": 4,
 "nbformat_minor": 1
}
